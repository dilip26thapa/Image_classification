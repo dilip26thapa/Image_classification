{
 "cells": [
  {
   "cell_type": "code",
   "execution_count": 1,
   "metadata": {},
   "outputs": [],
   "source": [
    "import os   # import os module\n",
    "import numpy as np # import numpy module\n",
    "from keras.models import Sequential # import Sequential module from keras module    \n",
    "from keras.layers import Activation, Dropout, Flatten, Dense # import Activation, Dropout, Flatten, Dense modules from keras module\n",
    "from keras.preprocessing.image import ImageDataGenerator    # import ImageDataGenerator module from keras module\n",
    "from keras.layers import Conv2D, MaxPooling2D, ZeroPadding2D # import Conv2D, MaxPooling2D, ZeroPadding2D modules from keras module\n",
    "from keras import optimizers # import optimizers module from keras module\n",
    "import scipy # import scipy module for image processing and analysis  \n",
    "import pylab as pl # import pylab module for plotting  \n",
    "import matplotlib.cm as cm # import matplotlib.cm module for color mapping\n",
    "%matplotlib inline    \n",
    "\n",
    "input_shape = (150, 150, 3) # input shape for the model \n",
    "img_width, img_height = 150, 150 # input image dimensions for the model \n",
    "\n",
    "nb_train_samples = 2000 # number of training samples \n",
    "nb_validation_samples = 1000 # number of validation samples\n",
    "batch_size = 16 # batch size for training \n",
    "epochs = 25 # number of epochs for training \n",
    "\n",
    "\n"
   ]
  },
  {
   "cell_type": "code",
   "execution_count": 7,
   "metadata": {},
   "outputs": [],
   "source": [
    "train_data_dir = r'E:\\Porject\\image_classification\\training_set\\training_set' # path to training data directory\n",
    "validation_data_dir = r'E:\\Porject\\image_classification\\test_set\\test_set' # path to validation data directory"
   ]
  },
  {
   "cell_type": "code",
   "execution_count": 8,
   "metadata": {},
   "outputs": [],
   "source": [
    "# Creating our data generator for our test data\n",
    "validation_datagen = ImageDataGenerator(\n",
    "    # used to rescale the pixel values from [0, 255] to [0, 1] interval\n",
    "    rescale = 1./255)\n",
    "\n",
    "# Creating our data generator for our training data\n",
    "train_datagen = ImageDataGenerator(\n",
    "    rescale = 1./255,              # normalize pixel values to [0,1]\n",
    "    rotation_range = 30,           # randomly applies rotations\n",
    "    width_shift_range = 0.3,       # randomly applies width shifting\n",
    "    height_shift_range = 0.3,      # randomly applies height shifting\n",
    "    horizontal_flip = True,        # randonly flips the image\n",
    "    fill_mode = 'nearest')         # uses the fill mode nearest to fill gaps created by the above"
   ]
  },
  {
   "cell_type": "code",
   "execution_count": 9,
   "metadata": {},
   "outputs": [
    {
     "name": "stdout",
     "output_type": "stream",
     "text": [
      "Found 8005 images belonging to 2 classes.\n",
      "Found 2023 images belonging to 2 classes.\n"
     ]
    }
   ],
   "source": [
    "# Specify criteria about our training data, such as the directory, image size, batch size and type \n",
    "# automagically retrieve images and their classes for train and validation sets\n",
    "train_generator = train_datagen.flow_from_directory(\n",
    "        train_data_dir,\n",
    "        target_size = (img_width, img_height),\n",
    "        batch_size = batch_size,\n",
    "        class_mode = 'binary',\n",
    "        shuffle = True)\n",
    "\n",
    "validation_generator = validation_datagen.flow_from_directory(\n",
    "        validation_data_dir,\n",
    "        target_size = (img_width, img_height),\n",
    "        batch_size = batch_size,\n",
    "        class_mode = 'binary',\n",
    "        shuffle = False)    "
   ]
  },
  {
   "cell_type": "code",
   "execution_count": 10,
   "metadata": {},
   "outputs": [
    {
     "name": "stdout",
     "output_type": "stream",
     "text": [
      "Model: \"sequential\"\n",
      "_________________________________________________________________\n",
      " Layer (type)                Output Shape              Param #   \n",
      "=================================================================\n",
      " conv2d (Conv2D)             (None, 148, 148, 32)      896       \n",
      "                                                                 \n",
      " activation (Activation)     (None, 148, 148, 32)      0         \n",
      "                                                                 \n",
      " max_pooling2d (MaxPooling2D  (None, 74, 74, 32)       0         \n",
      " )                                                               \n",
      "                                                                 \n",
      " conv2d_1 (Conv2D)           (None, 72, 72, 32)        9248      \n",
      "                                                                 \n",
      " activation_1 (Activation)   (None, 72, 72, 32)        0         \n",
      "                                                                 \n",
      " max_pooling2d_1 (MaxPooling  (None, 36, 36, 32)       0         \n",
      " 2D)                                                             \n",
      "                                                                 \n",
      " conv2d_2 (Conv2D)           (None, 34, 34, 64)        18496     \n",
      "                                                                 \n",
      " activation_2 (Activation)   (None, 34, 34, 64)        0         \n",
      "                                                                 \n",
      " max_pooling2d_2 (MaxPooling  (None, 17, 17, 64)       0         \n",
      " 2D)                                                             \n",
      "                                                                 \n",
      " flatten (Flatten)           (None, 18496)             0         \n",
      "                                                                 \n",
      " dense (Dense)               (None, 64)                1183808   \n",
      "                                                                 \n",
      " activation_3 (Activation)   (None, 64)                0         \n",
      "                                                                 \n",
      " dropout (Dropout)           (None, 64)                0         \n",
      "                                                                 \n",
      " dense_1 (Dense)             (None, 1)                 65        \n",
      "                                                                 \n",
      " activation_4 (Activation)   (None, 1)                 0         \n",
      "                                                                 \n",
      "=================================================================\n",
      "Total params: 1,212,513\n",
      "Trainable params: 1,212,513\n",
      "Non-trainable params: 0\n",
      "_________________________________________________________________\n",
      "None\n"
     ]
    }
   ],
   "source": [
    "# Creating out model\n",
    "model = Sequential()\n",
    "model.add(Conv2D(32, (3, 3), input_shape=input_shape))\n",
    "model.add(Activation('relu'))\n",
    "model.add(MaxPooling2D(pool_size=(2, 2)))\n",
    "\n",
    "model.add(Conv2D(32, (3, 3)))\n",
    "model.add(Activation('relu'))\n",
    "model.add(MaxPooling2D(pool_size=(2, 2)))\n",
    "\n",
    "model.add(Conv2D(64, (3, 3)))\n",
    "model.add(Activation('relu'))\n",
    "model.add(MaxPooling2D(pool_size=(2, 2)))\n",
    "\n",
    "model.add(Flatten())\n",
    "model.add(Dense(64))\n",
    "model.add(Activation('relu'))\n",
    "model.add(Dropout(0.5))\n",
    "model.add(Dense(1))\n",
    "model.add(Activation('sigmoid'))\n",
    "\n",
    "print(model.summary())\n",
    "\n",
    "model.compile(loss='binary_crossentropy',\n",
    "            optimizer='rmsprop',\n",
    "            metrics=['accuracy'])"
   ]
  },
  {
   "cell_type": "code",
   "execution_count": 11,
   "metadata": {},
   "outputs": [
    {
     "name": "stderr",
     "output_type": "stream",
     "text": [
      "C:\\Users\\dilip\\AppData\\Local\\Temp\\ipykernel_20792\\429289494.py:1: UserWarning: `Model.fit_generator` is deprecated and will be removed in a future version. Please use `Model.fit`, which supports generators.\n",
      "  history = model.fit_generator(\n"
     ]
    },
    {
     "name": "stdout",
     "output_type": "stream",
     "text": [
      "Epoch 1/25\n",
      "500/500 [==============================] - 214s 427ms/step - loss: 0.6917 - accuracy: 0.5545 - val_loss: 0.6439 - val_accuracy: 0.6360\n",
      "Epoch 2/25\n",
      "500/500 [==============================] - 161s 322ms/step - loss: 0.6636 - accuracy: 0.6148 - val_loss: 0.6033 - val_accuracy: 0.6845\n",
      "Epoch 3/25\n",
      "500/500 [==============================] - 147s 294ms/step - loss: 0.6443 - accuracy: 0.6390 - val_loss: 0.6084 - val_accuracy: 0.6585\n",
      "Epoch 4/25\n",
      "500/500 [==============================] - 162s 324ms/step - loss: 0.6349 - accuracy: 0.6541 - val_loss: 0.7072 - val_accuracy: 0.5990\n",
      "Epoch 5/25\n",
      "500/500 [==============================] - 153s 306ms/step - loss: 0.6238 - accuracy: 0.6654 - val_loss: 0.6349 - val_accuracy: 0.6435\n",
      "Epoch 6/25\n",
      "500/500 [==============================] - 149s 297ms/step - loss: 0.6190 - accuracy: 0.6719 - val_loss: 0.5489 - val_accuracy: 0.7300\n",
      "Epoch 7/25\n",
      "500/500 [==============================] - 171s 342ms/step - loss: 0.6091 - accuracy: 0.6834 - val_loss: 0.5232 - val_accuracy: 0.7515\n",
      "Epoch 8/25\n",
      "500/500 [==============================] - 164s 327ms/step - loss: 0.6176 - accuracy: 0.6846 - val_loss: 0.5313 - val_accuracy: 0.7580\n",
      "Epoch 9/25\n",
      "500/500 [==============================] - 163s 326ms/step - loss: 0.6099 - accuracy: 0.6878 - val_loss: 0.5833 - val_accuracy: 0.7095\n",
      "Epoch 10/25\n",
      "500/500 [==============================] - 172s 345ms/step - loss: 0.6055 - accuracy: 0.6893 - val_loss: 0.5379 - val_accuracy: 0.7360\n",
      "Epoch 11/25\n",
      "500/500 [==============================] - 149s 298ms/step - loss: 0.5985 - accuracy: 0.6952 - val_loss: 0.6079 - val_accuracy: 0.7130\n",
      "Epoch 12/25\n",
      "500/500 [==============================] - 142s 283ms/step - loss: 0.6003 - accuracy: 0.6941 - val_loss: 0.5654 - val_accuracy: 0.7365\n",
      "Epoch 13/25\n",
      "500/500 [==============================] - 152s 305ms/step - loss: 0.5981 - accuracy: 0.6920 - val_loss: 0.5353 - val_accuracy: 0.7530\n",
      "Epoch 14/25\n",
      "500/500 [==============================] - 152s 304ms/step - loss: 0.5978 - accuracy: 0.6975 - val_loss: 0.5255 - val_accuracy: 0.7605\n",
      "Epoch 15/25\n",
      "500/500 [==============================] - 152s 305ms/step - loss: 0.5923 - accuracy: 0.7012 - val_loss: 0.5551 - val_accuracy: 0.7635\n",
      "Epoch 16/25\n",
      "500/500 [==============================] - 150s 300ms/step - loss: 0.6036 - accuracy: 0.7048 - val_loss: 0.5335 - val_accuracy: 0.7630\n",
      "Epoch 17/25\n",
      "500/500 [==============================] - 156s 312ms/step - loss: 0.5942 - accuracy: 0.7000 - val_loss: 0.6052 - val_accuracy: 0.7170\n",
      "Epoch 18/25\n",
      "500/500 [==============================] - 162s 324ms/step - loss: 0.5931 - accuracy: 0.7030 - val_loss: 0.6673 - val_accuracy: 0.6570\n",
      "Epoch 19/25\n",
      "500/500 [==============================] - 162s 324ms/step - loss: 0.5954 - accuracy: 0.7033 - val_loss: 0.5723 - val_accuracy: 0.7120\n",
      "Epoch 20/25\n",
      "500/500 [==============================] - 156s 312ms/step - loss: 0.6019 - accuracy: 0.6967 - val_loss: 0.5793 - val_accuracy: 0.7025\n",
      "Epoch 21/25\n",
      "500/500 [==============================] - 156s 312ms/step - loss: 0.6025 - accuracy: 0.6968 - val_loss: 0.5595 - val_accuracy: 0.7245\n",
      "Epoch 22/25\n",
      "500/500 [==============================] - 159s 317ms/step - loss: 0.6020 - accuracy: 0.6996 - val_loss: 0.5449 - val_accuracy: 0.7505\n",
      "Epoch 23/25\n",
      "500/500 [==============================] - 162s 325ms/step - loss: 0.5969 - accuracy: 0.7021 - val_loss: 0.5965 - val_accuracy: 0.6680\n",
      "Epoch 24/25\n",
      "500/500 [==============================] - 171s 341ms/step - loss: 0.5987 - accuracy: 0.6947 - val_loss: 0.5073 - val_accuracy: 0.7750\n",
      "Epoch 25/25\n",
      "500/500 [==============================] - 166s 333ms/step - loss: 0.5846 - accuracy: 0.7095 - val_loss: 0.5714 - val_accuracy: 0.7600\n"
     ]
    }
   ],
   "source": [
    "history = model.fit_generator(\n",
    "    train_generator,\n",
    "    steps_per_epoch = 8000 // batch_size,\n",
    "    epochs = epochs, #number or epochs.\n",
    "    validation_data = validation_generator,\n",
    "    validation_steps = 2000 // batch_size)"
   ]
  },
  {
   "cell_type": "code",
   "execution_count": 12,
   "metadata": {},
   "outputs": [
    {
     "data": {
      "text/plain": [
       "{'loss': [0.6916530728340149,\n",
       "  0.6635685563087463,\n",
       "  0.6442593932151794,\n",
       "  0.6348909735679626,\n",
       "  0.6238465905189514,\n",
       "  0.6189687252044678,\n",
       "  0.6091340780258179,\n",
       "  0.6176350116729736,\n",
       "  0.6099011898040771,\n",
       "  0.6054571866989136,\n",
       "  0.5984508395195007,\n",
       "  0.6002660989761353,\n",
       "  0.5980784296989441,\n",
       "  0.5978483557701111,\n",
       "  0.5922554731369019,\n",
       "  0.6036179661750793,\n",
       "  0.5941580533981323,\n",
       "  0.5931389331817627,\n",
       "  0.5954246520996094,\n",
       "  0.6019499897956848,\n",
       "  0.6024828553199768,\n",
       "  0.6019715666770935,\n",
       "  0.5968835949897766,\n",
       "  0.5987491011619568,\n",
       "  0.5846322774887085],\n",
       " 'accuracy': [0.5545124411582947,\n",
       "  0.6148453950881958,\n",
       "  0.6390036344528198,\n",
       "  0.6541494727134705,\n",
       "  0.6654149293899536,\n",
       "  0.6719238758087158,\n",
       "  0.6834397315979004,\n",
       "  0.6845662593841553,\n",
       "  0.6878207325935364,\n",
       "  0.689322829246521,\n",
       "  0.6952059268951416,\n",
       "  0.6940793395042419,\n",
       "  0.6919514536857605,\n",
       "  0.6974589824676514,\n",
       "  0.7012141942977905,\n",
       "  0.7048441767692566,\n",
       "  0.6999624371528625,\n",
       "  0.702966570854187,\n",
       "  0.703342080116272,\n",
       "  0.6967079639434814,\n",
       "  0.6968331336975098,\n",
       "  0.6995869278907776,\n",
       "  0.7020903825759888,\n",
       "  0.6947052478790283,\n",
       "  0.7094755172729492],\n",
       " 'val_loss': [0.6438556909561157,\n",
       "  0.6032517552375793,\n",
       "  0.6083689332008362,\n",
       "  0.7072471976280212,\n",
       "  0.634852945804596,\n",
       "  0.548947274684906,\n",
       "  0.5231791138648987,\n",
       "  0.5312551259994507,\n",
       "  0.5833352208137512,\n",
       "  0.5379146933555603,\n",
       "  0.6079083681106567,\n",
       "  0.5653736591339111,\n",
       "  0.5352930426597595,\n",
       "  0.5255361199378967,\n",
       "  0.5550562739372253,\n",
       "  0.5334845781326294,\n",
       "  0.6052195429801941,\n",
       "  0.6672594547271729,\n",
       "  0.5723406076431274,\n",
       "  0.5792504549026489,\n",
       "  0.5595377683639526,\n",
       "  0.5448643565177917,\n",
       "  0.596524178981781,\n",
       "  0.5073239803314209,\n",
       "  0.5713624954223633],\n",
       " 'val_accuracy': [0.6359999775886536,\n",
       "  0.684499979019165,\n",
       "  0.6585000157356262,\n",
       "  0.5989999771118164,\n",
       "  0.6434999704360962,\n",
       "  0.7300000190734863,\n",
       "  0.7515000104904175,\n",
       "  0.7580000162124634,\n",
       "  0.7095000147819519,\n",
       "  0.7360000014305115,\n",
       "  0.7129999995231628,\n",
       "  0.7365000247955322,\n",
       "  0.753000020980835,\n",
       "  0.7605000138282776,\n",
       "  0.7634999752044678,\n",
       "  0.7630000114440918,\n",
       "  0.7170000076293945,\n",
       "  0.6570000052452087,\n",
       "  0.7120000123977661,\n",
       "  0.7024999856948853,\n",
       "  0.7245000004768372,\n",
       "  0.7505000233650208,\n",
       "  0.6679999828338623,\n",
       "  0.7749999761581421,\n",
       "  0.7599999904632568]}"
      ]
     },
     "execution_count": 12,
     "metadata": {},
     "output_type": "execute_result"
    }
   ],
   "source": [
    "history.history"
   ]
  },
  {
   "cell_type": "code",
   "execution_count": 13,
   "metadata": {},
   "outputs": [
    {
     "data": {
      "image/png": "[encoded data removed]",
      "text/plain": [
       "<Figure size 432x288 with 1 Axes>"
      ]
     },
     "metadata": {
      "needs_background": "light"
     },
     "output_type": "display_data"
    }
   ],
   "source": [
    "# Plotting our loss charts\n",
    "import matplotlib.pyplot as plt\n",
    "\n",
    "history_dict = history.history\n",
    "\n",
    "loss_values = history_dict['loss']\n",
    "val_loss_values = history_dict['val_loss']\n",
    "epochs = range(1, len(loss_values) + 1)\n",
    "\n",
    "line1 = plt.plot(epochs, val_loss_values, label='Validation/Test Loss')\n",
    "line2 = plt.plot(epochs, loss_values, label='Training Loss')\n",
    "# plt.setp(line1, linewidth=2.0, marker = '+', markersize=10.0)\n",
    "# plt.setp(line2, linewidth=2.0, marker = '4', markersize=10.0)\n",
    "plt.xlabel('Epochs') \n",
    "plt.ylabel('Loss')\n",
    "plt.grid(True)\n",
    "plt.legend()\n",
    "plt.show()"
   ]
  },
  {
   "cell_type": "code",
   "execution_count": 14,
   "metadata": {},
   "outputs": [
    {
     "data": {
      "image/png": "[encoded data removed]",
      "text/plain": [
       "<Figure size 432x288 with 1 Axes>"
      ]
     },
     "metadata": {
      "needs_background": "light"
     },
     "output_type": "display_data"
    }
   ],
   "source": [
    "# Plotting our accuracy charts\n",
    "import matplotlib.pyplot as plt\n",
    "\n",
    "history_dict = history.history\n",
    "\n",
    "acc_values = history_dict['accuracy']\n",
    "val_acc_values = history_dict['val_accuracy']\n",
    "epochs = range(1, len(loss_values) + 1)\n",
    "\n",
    "line1 = plt.plot(epochs, val_acc_values, label='Validation/Test Accuracy')\n",
    "line2 = plt.plot(epochs, acc_values, label='Training Accuracy')\n",
    "plt.setp(line1, linewidth=2.0, marker = '+', markersize=10.0)\n",
    "plt.setp(line2, linewidth=2.0, marker = '4', markersize=10.0)\n",
    "plt.xlabel('Epochs') \n",
    "plt.ylabel('Accuracy')\n",
    "plt.grid(True)\n",
    "plt.legend()\n",
    "plt.show()"
   ]
  },
  {
   "cell_type": "code",
   "execution_count": 16,
   "metadata": {},
   "outputs": [
    {
     "name": "stderr",
     "output_type": "stream",
     "text": [
      "C:\\Users\\dilip\\AppData\\Local\\Temp\\ipykernel_20792\\1131787608.py:18: UserWarning: `Model.predict_generator` is deprecated and will be removed in a future version. Please use `Model.predict`, which supports generators.\n",
      "  Y_pred = model.predict_generator(validation_generator, nb_validation_samples // batch_size+1)\n"
     ]
    },
    {
     "data": {
      "image/png": "[encoded data removed]",
      "text/plain": [
       "<Figure size 1440x1440 with 2 Axes>"
      ]
     },
     "metadata": {
      "needs_background": "light"
     },
     "output_type": "display_data"
    }
   ],
   "source": [
    "import matplotlib.pyplot as plt\n",
    "import sklearn\n",
    "from sklearn.metrics import classification_report, confusion_matrix\n",
    "import numpy as np\n",
    "from keras.models import load_model\n",
    "\n",
    "img_row, img_height, img_depth = 150,150,3\n",
    "\n",
    "\n",
    "class_labels = validation_generator.class_indices\n",
    "class_labels = {v: k for k, v in class_labels.items()}\n",
    "classes = list(class_labels.values())\n",
    "\n",
    "nb_train_samples = 8005\n",
    "nb_validation_samples = 2023\n",
    "\n",
    "#Confution Matrix and Classification Report\n",
    "Y_pred = model.predict_generator(validation_generator, nb_validation_samples // batch_size+1)\n",
    "y_pred = np.argmax(Y_pred, axis=1)\n",
    "\n",
    "target_names = list(class_labels.values())\n",
    "\n",
    "plt.figure(figsize=(20,20))\n",
    "cnf_matrix = confusion_matrix(validation_generator.classes, y_pred)\n",
    "\n",
    "plt.imshow(cnf_matrix, interpolation='nearest')\n",
    "plt.colorbar()\n",
    "tick_marks = np.arange(len(classes))\n",
    "_ = plt.xticks(tick_marks, classes, rotation=90)\n",
    "_ = plt.yticks(tick_marks, classes)"
   ]
  },
  {
   "cell_type": "code",
   "execution_count": 30,
   "metadata": {},
   "outputs": [
    {
     "ename": "AttributeError",
     "evalue": "module 'keras.preprocessing.image' has no attribute 'img_to_array'",
     "output_type": "error",
     "traceback": [
      "\u001b[1;31m---------------------------------------------------------------------------\u001b[0m",
      "\u001b[1;31mAttributeError\u001b[0m                            Traceback (most recent call last)",
      "\u001b[1;32me:\\Porject\\image_classification\\Image_classification.ipynb Cell 11\u001b[0m in \u001b[0;36m<cell line: 6>\u001b[1;34m()\u001b[0m\n\u001b[0;32m      <a href='vscode-notebook-cell:/e%3A/Porject/image_classification/Image_classification.ipynb#X13sZmlsZQ%3D%3D?line=2'>3</a>\u001b[0m \u001b[39mfrom\u001b[39;00m \u001b[39mtensorflow\u001b[39;00m\u001b[39m.\u001b[39;00m\u001b[39mkeras\u001b[39;00m\u001b[39m.\u001b[39;00m\u001b[39mutils\u001b[39;00m \u001b[39mimport\u001b[39;00m load_img\n\u001b[0;32m      <a href='vscode-notebook-cell:/e%3A/Porject/image_classification/Image_classification.ipynb#X13sZmlsZQ%3D%3D?line=4'>5</a>\u001b[0m test_image \u001b[39m=\u001b[39m load_img(\u001b[39mr\u001b[39m\u001b[39m'\u001b[39m\u001b[39mE:\u001b[39m\u001b[39m\\\u001b[39m\u001b[39mPorject\u001b[39m\u001b[39m\\\u001b[39m\u001b[39mimage_classification\u001b[39m\u001b[39m\\\u001b[39m\u001b[39mtraining_set\u001b[39m\u001b[39m\\\u001b[39m\u001b[39mtraining_set\u001b[39m\u001b[39m\\\u001b[39m\u001b[39mcats\u001b[39m\u001b[39m\\\u001b[39m\u001b[39mcat.10.jpg\u001b[39m\u001b[39m'\u001b[39m,target_size \u001b[39m=\u001b[39m (\u001b[39m150\u001b[39m,\u001b[39m150\u001b[39m,\u001b[39m3\u001b[39m))\n\u001b[1;32m----> <a href='vscode-notebook-cell:/e%3A/Porject/image_classification/Image_classification.ipynb#X13sZmlsZQ%3D%3D?line=5'>6</a>\u001b[0m test_image \u001b[39m=\u001b[39m image\u001b[39m.\u001b[39;49mimg_to_array(test_image)\n\u001b[0;32m      <a href='vscode-notebook-cell:/e%3A/Porject/image_classification/Image_classification.ipynb#X13sZmlsZQ%3D%3D?line=6'>7</a>\u001b[0m test_image \u001b[39m=\u001b[39m np\u001b[39m.\u001b[39mexpand_dims(test_image,axis \u001b[39m=\u001b[39m \u001b[39m0\u001b[39m)\n\u001b[0;32m      <a href='vscode-notebook-cell:/e%3A/Porject/image_classification/Image_classification.ipynb#X13sZmlsZQ%3D%3D?line=7'>8</a>\u001b[0m result \u001b[39m=\u001b[39m model\u001b[39m.\u001b[39mpredict(test_image)\n",
      "\u001b[1;31mAttributeError\u001b[0m: module 'keras.preprocessing.image' has no attribute 'img_to_array'"
     ]
    }
   ],
   "source": [
    "import numpy as np\n",
    "from keras.preprocessing import image\n",
    "from tensorflow.keras.utils import load_img\n",
    "\n",
    "test_image = load_img(r'E:\\Porject\\image_classification\\training_set\\training_set\\cats\\cat.10.jpg',target_size = (150,150,3))\n",
    "test_image = image.img_to_array(test_image)\n",
    "test_image = np.expand_dims(test_image,axis = 0)\n",
    "result = model.predict(test_image)\n",
    "print(result)\n",
    "if result[0][0] == 1:\n",
    "    print(\"This is dog\")\n",
    "else:\n",
    "    print(\"this is cat\")"
   ]
  },
  {
   "cell_type": "code",
   "execution_count": null,
   "metadata": {},
   "outputs": [],
   "source": []
  }
 ],
 "metadata": {
  "kernelspec": {
   "display_name": "Python 3.10.5 64-bit",
   "language": "python",
   "name": "python3"
  },
  "language_info": {
   "codemirror_mode": {
    "name": "ipython",
    "version": 3
   },
   "file_extension": ".py",
   "mimetype": "text/x-python",
   "name": "python",
   "nbconvert_exporter": "python",
   "pygments_lexer": "ipython3",
   "version": "3.10.5"
  },
  "orig_nbformat": 4,
  "vscode": {
   "interpreter": {
    "hash": "369f2c481f4da34e4445cda3fffd2e751bd1c4d706f27375911949ba6bb62e1c"
   }
  }
 },
 "nbformat": 4,
 "nbformat_minor": 2
}
