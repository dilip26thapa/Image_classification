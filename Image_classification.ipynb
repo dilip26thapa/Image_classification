{
 "cells": [
  {
   "cell_type": "code",
   "execution_count": 1,
   "metadata": {},
   "outputs": [],
   "source": [
    "import os   # import os module\n",
    "import numpy as np # import numpy module\n",
    "from keras.models import Sequential # import Sequential module from keras module    \n",
    "from keras.layers import Activation, Dropout, Flatten, Dense # import Activation, Dropout, Flatten, Dense modules from keras module\n",
    "from keras.preprocessing.image import ImageDataGenerator    # import ImageDataGenerator module from keras module\n",
    "from keras.layers import Conv2D, MaxPooling2D, ZeroPadding2D # import Conv2D, MaxPooling2D, ZeroPadding2D modules from keras module\n",
    "from keras import optimizers # import optimizers module from keras module\n",
    "import scipy # import scipy module for image processing and analysis  \n",
    "import pylab as pl # import pylab module for plotting  \n",
    "import matplotlib.cm as cm # import matplotlib.cm module for color mapping\n",
    "%matplotlib inline    \n",
    "\n",
    "input_shape = (150, 150, 3) # input shape for the model \n",
    "img_width, img_height = 150, 150 # input image dimensions for the model \n",
    "\n",
    "nb_train_samples = 2000 # number of training samples \n",
    "nb_validation_samples = 1000 # number of validation samples\n",
    "batch_size = 16 # batch size for training \n",
    "epochs = 25 # number of epochs for training \n",
    "\n",
    "\n"
   ]
  },
  {
   "cell_type": "code",
   "execution_count": 2,
   "metadata": {},
   "outputs": [],
   "source": [
    "train_data_dir = r'E:\\Porject\\image_classification\\training_set\\training_set' # path to training data directory\n",
    "validation_data_dir = r'E:\\Porject\\image_classification\\test_set\\test_set' # path to validation data directory"
   ]
  },
  {
   "cell_type": "code",
   "execution_count": 3,
   "metadata": {},
   "outputs": [],
   "source": [
    "# Creating our data generator for our test data\n",
    "validation_datagen = ImageDataGenerator(\n",
    "    # used to rescale the pixel values from [0, 255] to [0, 1] interval\n",
    "    rescale = 1./255)\n",
    "\n",
    "# Creating our data generator for our training data\n",
    "train_datagen = ImageDataGenerator(\n",
    "    rescale = 1./255,              # normalize pixel values to [0,1]\n",
    "    rotation_range = 30,           # randomly applies rotations\n",
    "    width_shift_range = 0.3,       # randomly applies width shifting\n",
    "    height_shift_range = 0.3,      # randomly applies height shifting\n",
    "    horizontal_flip = True,        # randonly flips the image\n",
    "    fill_mode = 'nearest')         # uses the fill mode nearest to fill gaps created by the above"
   ]
  },
  {
   "cell_type": "code",
   "execution_count": 4,
   "metadata": {},
   "outputs": [
    {
     "name": "stdout",
     "output_type": "stream",
     "text": [
      "Found 8005 images belonging to 2 classes.\n",
      "Found 2023 images belonging to 2 classes.\n"
     ]
    }
   ],
   "source": [
    "# Specify criteria about our training data, such as the directory, image size, batch size and type \n",
    "# automagically retrieve images and their classes for train and validation sets\n",
    "train_generator = train_datagen.flow_from_directory(\n",
    "        train_data_dir,\n",
    "        target_size = (img_width, img_height),\n",
    "        batch_size = batch_size,\n",
    "        class_mode = 'binary',\n",
    "        shuffle = True)\n",
    "\n",
    "validation_generator = validation_datagen.flow_from_directory(\n",
    "        validation_data_dir,\n",
    "        target_size = (img_width, img_height),\n",
    "        batch_size = batch_size,\n",
    "        class_mode = 'binary',\n",
    "        shuffle = False)    "
   ]
  },
  {
   "cell_type": "code",
   "execution_count": 5,
   "metadata": {},
   "outputs": [
    {
     "name": "stdout",
     "output_type": "stream",
     "text": [
      "Model: \"sequential\"\n",
      "_________________________________________________________________\n",
      " Layer (type)                Output Shape              Param #   \n",
      "=================================================================\n",
      " conv2d (Conv2D)             (None, 148, 148, 128)     3584      \n",
      "                                                                 \n",
      " activation (Activation)     (None, 148, 148, 128)     0         \n",
      "                                                                 \n",
      " max_pooling2d (MaxPooling2D  (None, 74, 74, 128)      0         \n",
      " )                                                               \n",
      "                                                                 \n",
      " conv2d_1 (Conv2D)           (None, 72, 72, 64)        73792     \n",
      "                                                                 \n",
      " activation_1 (Activation)   (None, 72, 72, 64)        0         \n",
      "                                                                 \n",
      " max_pooling2d_1 (MaxPooling  (None, 36, 36, 64)       0         \n",
      " 2D)                                                             \n",
      "                                                                 \n",
      " conv2d_2 (Conv2D)           (None, 34, 34, 32)        18464     \n",
      "                                                                 \n",
      " activation_2 (Activation)   (None, 34, 34, 32)        0         \n",
      "                                                                 \n",
      " max_pooling2d_2 (MaxPooling  (None, 17, 17, 32)       0         \n",
      " 2D)                                                             \n",
      "                                                                 \n",
      " flatten (Flatten)           (None, 9248)              0         \n",
      "                                                                 \n",
      " dense (Dense)               (None, 64)                591936    \n",
      "                                                                 \n",
      " activation_3 (Activation)   (None, 64)                0         \n",
      "                                                                 \n",
      " dropout (Dropout)           (None, 64)                0         \n",
      "                                                                 \n",
      " dense_1 (Dense)             (None, 1)                 65        \n",
      "                                                                 \n",
      " activation_4 (Activation)   (None, 1)                 0         \n",
      "                                                                 \n",
      "=================================================================\n",
      "Total params: 687,841\n",
      "Trainable params: 687,841\n",
      "Non-trainable params: 0\n",
      "_________________________________________________________________\n",
      "None\n"
     ]
    }
   ],
   "source": [
    "# Creating out model\n",
    "model = Sequential()\n",
    "model.add(Conv2D(128, (3, 3), input_shape=input_shape))\n",
    "model.add(Activation('relu'))\n",
    "model.add(MaxPooling2D(pool_size=(2, 2)))\n",
    "\n",
    "model.add(Conv2D(64, (3, 3)))\n",
    "model.add(Activation('relu'))\n",
    "model.add(MaxPooling2D(pool_size=(2, 2)))\n",
    "\n",
    "model.add(Conv2D(32, (3, 3)))\n",
    "model.add(Activation('relu'))\n",
    "model.add(MaxPooling2D(pool_size=(2, 2)))\n",
    "\n",
    "model.add(Flatten())\n",
    "model.add(Dense(64))\n",
    "model.add(Activation('relu'))\n",
    "model.add(Dropout(0.5))\n",
    "model.add(Dense(1))\n",
    "model.add(Activation('sigmoid'))\n",
    "\n",
    "print(model.summary())\n",
    "\n",
    "model.compile(loss='binary_crossentropy',\n",
    "            optimizer='rmsprop',\n",
    "            metrics=['accuracy'])"
   ]
  },
  {
   "cell_type": "code",
   "execution_count": 6,
   "metadata": {},
   "outputs": [
    {
     "name": "stderr",
     "output_type": "stream",
     "text": [
      "C:\\Users\\dilip\\AppData\\Local\\Temp\\ipykernel_4952\\429289494.py:1: UserWarning: `Model.fit_generator` is deprecated and will be removed in a future version. Please use `Model.fit`, which supports generators.\n",
      "  history = model.fit_generator(\n"
     ]
    },
    {
     "name": "stdout",
     "output_type": "stream",
     "text": [
      "Epoch 1/25\n",
      "500/500 [==============================] - 956s 2s/step - loss: 0.7017 - accuracy: 0.5394 - val_loss: 0.6673 - val_accuracy: 0.5845\n",
      "Epoch 2/25\n",
      "500/500 [==============================] - 858s 2s/step - loss: 0.6814 - accuracy: 0.5821 - val_loss: 0.6572 - val_accuracy: 0.6280\n",
      "Epoch 3/25\n",
      "500/500 [==============================] - 414s 828ms/step - loss: 0.6676 - accuracy: 0.6162 - val_loss: 1.0303 - val_accuracy: 0.5205\n",
      "Epoch 4/25\n",
      "500/500 [==============================] - 407s 815ms/step - loss: 0.6597 - accuracy: 0.6285 - val_loss: 0.6025 - val_accuracy: 0.6880\n",
      "Epoch 5/25\n",
      "500/500 [==============================] - 424s 848ms/step - loss: 0.6478 - accuracy: 0.6594 - val_loss: 0.5671 - val_accuracy: 0.7055\n",
      "Epoch 6/25\n",
      "500/500 [==============================] - 418s 836ms/step - loss: 0.6310 - accuracy: 0.6642 - val_loss: 0.5760 - val_accuracy: 0.7210\n",
      "Epoch 7/25\n",
      "500/500 [==============================] - 439s 879ms/step - loss: 0.6242 - accuracy: 0.6707 - val_loss: 0.5594 - val_accuracy: 0.7345\n",
      "Epoch 8/25\n",
      "500/500 [==============================] - 439s 877ms/step - loss: 0.6394 - accuracy: 0.6673 - val_loss: 0.5519 - val_accuracy: 0.7395\n",
      "Epoch 9/25\n",
      "500/500 [==============================] - 418s 837ms/step - loss: 0.6108 - accuracy: 0.6859 - val_loss: 0.6307 - val_accuracy: 0.6880\n",
      "Epoch 10/25\n",
      "500/500 [==============================] - 443s 886ms/step - loss: 0.6113 - accuracy: 0.6863 - val_loss: 0.5689 - val_accuracy: 0.7280\n",
      "Epoch 11/25\n",
      "500/500 [==============================] - 464s 928ms/step - loss: 0.6070 - accuracy: 0.6859 - val_loss: 0.5927 - val_accuracy: 0.7195\n",
      "Epoch 12/25\n",
      "500/500 [==============================] - 894s 2s/step - loss: 0.6110 - accuracy: 0.6864 - val_loss: 0.5847 - val_accuracy: 0.7300\n",
      "Epoch 13/25\n",
      "500/500 [==============================] - 502s 1s/step - loss: 0.6027 - accuracy: 0.6936 - val_loss: 0.5676 - val_accuracy: 0.7195\n",
      "Epoch 14/25\n",
      "500/500 [==============================] - 532s 1s/step - loss: 0.5920 - accuracy: 0.7117 - val_loss: 0.5379 - val_accuracy: 0.7600\n",
      "Epoch 15/25\n",
      "500/500 [==============================] - 530s 1s/step - loss: 0.5940 - accuracy: 0.7036 - val_loss: 0.5444 - val_accuracy: 0.7280\n",
      "Epoch 16/25\n",
      "500/500 [==============================] - 477s 954ms/step - loss: 0.5845 - accuracy: 0.7091 - val_loss: 0.5136 - val_accuracy: 0.7760\n",
      "Epoch 17/25\n",
      "500/500 [==============================] - 447s 894ms/step - loss: 0.5842 - accuracy: 0.7162 - val_loss: 0.5107 - val_accuracy: 0.7610\n",
      "Epoch 18/25\n",
      "500/500 [==============================] - 429s 856ms/step - loss: 0.5939 - accuracy: 0.7080 - val_loss: 0.5073 - val_accuracy: 0.7905\n",
      "Epoch 19/25\n",
      "500/500 [==============================] - 404s 807ms/step - loss: 0.5978 - accuracy: 0.7027 - val_loss: 0.6309 - val_accuracy: 0.6965\n",
      "Epoch 20/25\n",
      "500/500 [==============================] - 396s 792ms/step - loss: 0.5938 - accuracy: 0.7055 - val_loss: 0.4981 - val_accuracy: 0.7900\n",
      "Epoch 21/25\n",
      "500/500 [==============================] - 418s 835ms/step - loss: 0.5835 - accuracy: 0.7205 - val_loss: 0.4888 - val_accuracy: 0.7915\n",
      "Epoch 22/25\n",
      "500/500 [==============================] - 442s 883ms/step - loss: 0.5789 - accuracy: 0.7200 - val_loss: 0.5159 - val_accuracy: 0.7795\n",
      "Epoch 23/25\n",
      "500/500 [==============================] - 451s 901ms/step - loss: 0.5679 - accuracy: 0.7241 - val_loss: 0.4821 - val_accuracy: 0.7920\n",
      "Epoch 24/25\n",
      "500/500 [==============================] - 422s 844ms/step - loss: 0.5767 - accuracy: 0.7165 - val_loss: 0.4910 - val_accuracy: 0.7800\n",
      "Epoch 25/25\n",
      "500/500 [==============================] - 436s 871ms/step - loss: 0.5657 - accuracy: 0.7262 - val_loss: 0.4830 - val_accuracy: 0.7825\n"
     ]
    }
   ],
   "source": [
    "history = model.fit_generator(\n",
    "    train_generator,\n",
    "    steps_per_epoch = 8000 // batch_size,\n",
    "    epochs = epochs, #number or epochs.\n",
    "    validation_data = validation_generator,\n",
    "    validation_steps = 2000 // batch_size)"
   ]
  },
  {
   "cell_type": "code",
   "execution_count": 7,
   "metadata": {},
   "outputs": [
    {
     "data": {
      "text/plain": [
       "{'loss': [0.7017229795455933,\n",
       "  0.6813649535179138,\n",
       "  0.667603075504303,\n",
       "  0.6597033143043518,\n",
       "  0.6478305459022522,\n",
       "  0.6309592723846436,\n",
       "  0.6241933107376099,\n",
       "  0.6394336223602295,\n",
       "  0.6107509732246399,\n",
       "  0.6112760901451111,\n",
       "  0.6069859266281128,\n",
       "  0.6110283732414246,\n",
       "  0.6026839017868042,\n",
       "  0.592025101184845,\n",
       "  0.5939557552337646,\n",
       "  0.5844506621360779,\n",
       "  0.5842273831367493,\n",
       "  0.5939117670059204,\n",
       "  0.5978012681007385,\n",
       "  0.5937989354133606,\n",
       "  0.5834678411483765,\n",
       "  0.5789474248886108,\n",
       "  0.5678592920303345,\n",
       "  0.5766964554786682,\n",
       "  0.5656738877296448],\n",
       " 'accuracy': [0.539366602897644,\n",
       "  0.5820503234863281,\n",
       "  0.6162223219871521,\n",
       "  0.6284891963005066,\n",
       "  0.6594066619873047,\n",
       "  0.6641632318496704,\n",
       "  0.6706721782684326,\n",
       "  0.6672925353050232,\n",
       "  0.6859431862831116,\n",
       "  0.6863186955451965,\n",
       "  0.6859431862831116,\n",
       "  0.6864438652992249,\n",
       "  0.6935786604881287,\n",
       "  0.7117286324501038,\n",
       "  0.7035924196243286,\n",
       "  0.7091000080108643,\n",
       "  0.7162348031997681,\n",
       "  0.7079734802246094,\n",
       "  0.7027162313461304,\n",
       "  0.7054700255393982,\n",
       "  0.7204906940460205,\n",
       "  0.7199900150299072,\n",
       "  0.7241206765174866,\n",
       "  0.7164851427078247,\n",
       "  0.726248562335968],\n",
       " 'val_loss': [0.6672598719596863,\n",
       "  0.6571940183639526,\n",
       "  1.0303159952163696,\n",
       "  0.602488100528717,\n",
       "  0.567133367061615,\n",
       "  0.5759802460670471,\n",
       "  0.5594081878662109,\n",
       "  0.5519397854804993,\n",
       "  0.6306672692298889,\n",
       "  0.5689395070075989,\n",
       "  0.5927116274833679,\n",
       "  0.5846984386444092,\n",
       "  0.5675757527351379,\n",
       "  0.537886381149292,\n",
       "  0.5444360375404358,\n",
       "  0.5135953426361084,\n",
       "  0.5107243061065674,\n",
       "  0.5073446035385132,\n",
       "  0.6309401392936707,\n",
       "  0.4981146454811096,\n",
       "  0.48877355456352234,\n",
       "  0.515900731086731,\n",
       "  0.4820897877216339,\n",
       "  0.49102991819381714,\n",
       "  0.482972115278244],\n",
       " 'val_accuracy': [0.5845000147819519,\n",
       "  0.628000020980835,\n",
       "  0.5205000042915344,\n",
       "  0.6880000233650208,\n",
       "  0.7055000066757202,\n",
       "  0.7210000157356262,\n",
       "  0.734499990940094,\n",
       "  0.7394999861717224,\n",
       "  0.6880000233650208,\n",
       "  0.7279999852180481,\n",
       "  0.7195000052452087,\n",
       "  0.7300000190734863,\n",
       "  0.7195000052452087,\n",
       "  0.7599999904632568,\n",
       "  0.7279999852180481,\n",
       "  0.7760000228881836,\n",
       "  0.7609999775886536,\n",
       "  0.7904999852180481,\n",
       "  0.6965000033378601,\n",
       "  0.7900000214576721,\n",
       "  0.7914999723434448,\n",
       "  0.7795000076293945,\n",
       "  0.7919999957084656,\n",
       "  0.7799999713897705,\n",
       "  0.7825000286102295]}"
      ]
     },
     "execution_count": 7,
     "metadata": {},
     "output_type": "execute_result"
    }
   ],
   "source": [
    "history.history"
   ]
  },
  {
   "cell_type": "code",
   "execution_count": 8,
   "metadata": {},
   "outputs": [
    {
     "data": {
      "image/png": "[encoded data removed]",
      "text/plain": [
       "<Figure size 432x288 with 1 Axes>"
      ]
     },
     "metadata": {
      "needs_background": "light"
     },
     "output_type": "display_data"
    }
   ],
   "source": [
    "# Plotting our loss charts\n",
    "import matplotlib.pyplot as plt\n",
    "\n",
    "history_dict = history.history\n",
    "\n",
    "loss_values = history_dict['loss']\n",
    "val_loss_values = history_dict['val_loss']\n",
    "epochs = range(1, len(loss_values) + 1)\n",
    "\n",
    "line1 = plt.plot(epochs, val_loss_values, label='Validation/Test Loss')\n",
    "line2 = plt.plot(epochs, loss_values, label='Training Loss')\n",
    "# plt.setp(line1, linewidth=2.0, marker = '+', markersize=10.0)\n",
    "# plt.setp(line2, linewidth=2.0, marker = '4', markersize=10.0)\n",
    "plt.xlabel('Epochs') \n",
    "plt.ylabel('Loss')\n",
    "plt.grid(True)\n",
    "plt.legend()\n",
    "plt.show()"
   ]
  },
  {
   "cell_type": "code",
   "execution_count": 9,
   "metadata": {},
   "outputs": [
    {
     "data": {
      "image/png": "[encoded data removed]",
      "text/plain": [
       "<Figure size 432x288 with 1 Axes>"
      ]
     },
     "metadata": {
      "needs_background": "light"
     },
     "output_type": "display_data"
    }
   ],
   "source": [
    "# Plotting our accuracy charts\n",
    "import matplotlib.pyplot as plt\n",
    "\n",
    "history_dict = history.history\n",
    "\n",
    "acc_values = history_dict['accuracy']\n",
    "val_acc_values = history_dict['val_accuracy']\n",
    "epochs = range(1, len(loss_values) + 1)\n",
    "\n",
    "line1 = plt.plot(epochs, val_acc_values, label='Validation/Test Accuracy')\n",
    "line2 = plt.plot(epochs, acc_values, label='Training Accuracy')\n",
    "plt.setp(line1, linewidth=2.0, marker = '+', markersize=10.0)\n",
    "plt.setp(line2, linewidth=2.0, marker = '4', markersize=10.0)\n",
    "plt.xlabel('Epochs') \n",
    "plt.ylabel('Accuracy')\n",
    "plt.grid(True)\n",
    "plt.legend()\n",
    "plt.show()"
   ]
  },
  {
   "cell_type": "code",
   "execution_count": 10,
   "metadata": {},
   "outputs": [
    {
     "name": "stderr",
     "output_type": "stream",
     "text": [
      "C:\\Users\\dilip\\AppData\\Local\\Temp\\ipykernel_4952\\1131787608.py:18: UserWarning: `Model.predict_generator` is deprecated and will be removed in a future version. Please use `Model.predict`, which supports generators.\n",
      "  Y_pred = model.predict_generator(validation_generator, nb_validation_samples // batch_size+1)\n"
     ]
    },
    {
     "data": {
      "image/png": "[encoded data removed]",
      "text/plain": [
       "<Figure size 1440x1440 with 2 Axes>"
      ]
     },
     "metadata": {
      "needs_background": "light"
     },
     "output_type": "display_data"
    }
   ],
   "source": [
    "import matplotlib.pyplot as plt\n",
    "import sklearn\n",
    "from sklearn.metrics import classification_report, confusion_matrix\n",
    "import numpy as np\n",
    "from keras.models import load_model\n",
    "\n",
    "img_row, img_height, img_depth = 150,150,3\n",
    "\n",
    "\n",
    "class_labels = validation_generator.class_indices\n",
    "class_labels = {v: k for k, v in class_labels.items()}\n",
    "classes = list(class_labels.values())\n",
    "\n",
    "nb_train_samples = 8005\n",
    "nb_validation_samples = 2023\n",
    "\n",
    "#Confution Matrix and Classification Report\n",
    "Y_pred = model.predict_generator(validation_generator, nb_validation_samples // batch_size+1)\n",
    "y_pred = np.argmax(Y_pred, axis=1)\n",
    "\n",
    "target_names = list(class_labels.values())\n",
    "\n",
    "plt.figure(figsize=(20,20))\n",
    "cnf_matrix = confusion_matrix(validation_generator.classes, y_pred)\n",
    "\n",
    "plt.imshow(cnf_matrix, interpolation='nearest')\n",
    "plt.colorbar()\n",
    "tick_marks = np.arange(len(classes))\n",
    "_ = plt.xticks(tick_marks, classes, rotation=90)\n",
    "_ = plt.yticks(tick_marks, classes)"
   ]
  },
  {
   "cell_type": "code",
   "execution_count": 11,
   "metadata": {},
   "outputs": [
    {
     "name": "stdout",
     "output_type": "stream",
     "text": [
      "1/1 [==============================] - 0s 83ms/step\n",
      "[[1.]]\n",
      "This is dog\n"
     ]
    }
   ],
   "source": [
    "import numpy as np\n",
    "# from keras.preprocessing import image\n",
    "from tensorflow.keras.utils import load_img, img_to_array\n",
    "test_image = load_img(r'E:\\Porject\\image_classification\\training_set\\training_set\\cats\\cat.10.jpg',target_size = (150,150,3))\n",
    "test_image = img_to_array(test_image)\n",
    "test_image = np.expand_dims(test_image,axis = 0)\n",
    "result = model.predict(test_image)\n",
    "print(result)\n",
    "if result[0][0] == 1:\n",
    "    print(\"This is dog\")\n",
    "else:\n",
    "    print(\"this is cat\")"
   ]
  },
  {
   "cell_type": "code",
   "execution_count": null,
   "metadata": {},
   "outputs": [],
   "source": []
  }
 ],
 "metadata": {
  "kernelspec": {
   "display_name": "Python 3.10.5 64-bit",
   "language": "python",
   "name": "python3"
  },
  "language_info": {
   "codemirror_mode": {
    "name": "ipython",
    "version": 3
   },
   "file_extension": ".py",
   "mimetype": "text/x-python",
   "name": "python",
   "nbconvert_exporter": "python",
   "pygments_lexer": "ipython3",
   "version": "3.10.5"
  },
  "orig_nbformat": 4,
  "vscode": {
   "interpreter": {
    "hash": "369f2c481f4da34e4445cda3fffd2e751bd1c4d706f27375911949ba6bb62e1c"
   }
  }
 },
 "nbformat": 4,
 "nbformat_minor": 2
}
